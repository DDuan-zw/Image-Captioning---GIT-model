{
 "cells": [
  {
   "cell_type": "code",
   "execution_count": 1,
   "metadata": {
    "gather": {
     "logged": 1669680115707
    }
   },
   "outputs": [],
   "source": [
    "#generativeimage2text.\n",
    "from generativeimage2text.common import Config\n",
    "from generativeimage2text.common import get_mpi_rank, get_mpi_size, get_mpi_local_rank\n",
    "import json\n",
    "import os.path as op\n",
    "from generativeimage2text.common import qd_tqdm as tqdm\n",
    "from generativeimage2text.common import json_dump\n",
    "from generativeimage2text.common import pilimg_from_base64\n",
    "from generativeimage2text.torch_common import recursive_to_device\n",
    "from generativeimage2text.tsv_io import TSVFile, tsv_writer, tsv_reader, load_from_yaml_file\n",
    "from generativeimage2text.common import write_to_file\n",
    "import torch\n",
    "import PIL\n",
    "from pprint import pformat\n",
    "import logging\n",
    "from transformers import BertTokenizer\n",
    "import torchvision.transforms as transforms\n",
    "from torchvision.transforms import Compose, Resize, CenterCrop, ToTensor, Normalize\n",
    "from PIL import Image\n",
    "#from azfuse import File\n",
    "\n",
    "from generativeimage2text.common import dict_update_path_value, dict_get_path_value, get_all_path, load_from_yaml_str\n",
    "from generativeimage2text.common import init_logging\n",
    "from generativeimage2text.common import parse_general_args\n",
    "from generativeimage2text.torch_common import torch_load\n",
    "from generativeimage2text.torch_common import load_state_dict\n",
    "from generativeimage2text.torch_common import resize_2d_pos_embed\n",
    "from generativeimage2text.layers.CLIP import clip\n",
    "from generativeimage2text.layers.decoder import (TransformerDecoderTextualHead,\n",
    "                             AutoRegressiveBeamSearch, GeneratorWithBeamSearch)\n",
    "from generativeimage2text.layers.decoder import CaptioningModel\n",
    "from generativeimage2text.process_image import load_image_by_pil\n",
    "from generativeimage2text.data_layer.builder import collate_fn\n",
    "from generativeimage2text.train import get_data, get_image_transform as get_image_transform_GIT\n",
    "from generativeimage2text.inference import MinMaxResizeForTest, get_image_transform\n",
    "from tqdm import tqdm as tqm\n",
    "from generativeimage2text.model import get_git_model\n",
    "import numpy as np\n",
    "import pandas as pd"
   ]
  },
  {
   "cell_type": "code",
   "execution_count": 2,
   "metadata": {
    "gather": {
     "logged": 1669679371144
    },
    "jupyter": {
     "outputs_hidden": false,
     "source_hidden": false
    },
    "nteract": {
     "transient": {
      "deleting": false
     }
    }
   },
   "outputs": [],
   "source": [
    "torch.cuda.empty_cache()\n"
   ]
  },
  {
   "cell_type": "markdown",
   "metadata": {
    "nteract": {
     "transient": {
      "deleting": false
     }
    }
   },
   "source": [
    "### Training the COCO Model\n"
   ]
  },
  {
   "cell_type": "code",
   "execution_count": 3,
   "metadata": {
    "gather": {
     "logged": 1669680149910
    },
    "jupyter": {
     "outputs_hidden": false,
     "source_hidden": false
    },
    "nteract": {
     "transient": {
      "deleting": false
     }
    }
   },
   "outputs": [],
   "source": [
    "# import pandas as pd\n",
    "# def checkdata_vallidation():\n",
    "#     lang_codes = ['hau', 'kir','tha']\n",
    "#     #lang_codes = ['kir']\n",
    "#     for code in lang_codes:\n",
    "#         list_images = os.listdir('../images_{}'.format(code))\n",
    "#         for phase in ['train', 'validation', 'test']:\n",
    "#             df = pd.read_csv(\"../{}_{}_dataframe.csv\".format(code, phase))\n",
    "#             for img in tqm([x[1] for x in df['image_path'].str.split('/')]):\n",
    "#                 if img not in list_images:\n",
    "#                     print(code+' '+phase+' '+img+ ' not exist!')\n",
    "#                     break\n",
    "#     print('complete')\n",
    "\n",
    "# checkdata_vallidation()"
   ]
  },
  {
   "cell_type": "code",
   "execution_count": 4,
   "metadata": {
    "gather": {
     "logged": 1669680159073
    },
    "jupyter": {
     "outputs_hidden": false,
     "source_hidden": false
    },
    "nteract": {
     "transient": {
      "deleting": false
     }
    }
   },
   "outputs": [],
   "source": [
    "import os\n",
    "import pandas as pd\n",
    "target_language = ['tha'] #  ['hau','kir', 'tha']\n",
    "\n",
    "train_dataset = map(pd.read_csv, [f\"../{lang}_train_dataframe.csv\" for lang in target_language])\n",
    "train = pd.concat(train_dataset, axis=0, ignore_index=True)\n",
    "train['image_path'] = train['image_path'].apply(lambda x : '../'+x)\n",
    "\n",
    "val_dataset = map(pd.read_csv, [f\"../{lang}_validation_dataframe.csv\" for lang in target_language])\n",
    "val = pd.concat(val_dataset, axis=0, ignore_index=True)\n",
    "val['image_path'] = val['image_path'].apply(lambda x : '../'+x)\n",
    "\n",
    "test_dataset = map(pd.read_csv, [f\"../{lang}_test_dataframe.csv\" for lang in target_language])\n",
    "test = pd.concat(test_dataset, axis=0, ignore_index=True)\n",
    "test['image_path'] = test['image_path'].apply(lambda x : '../'+x)\n",
    "\n",
    "images_train = train.image_path.values\n",
    "captions_train = train.English.values\n",
    "\n",
    "images_val= val.image_path.values\n",
    "captions_val = val.English.values\n",
    "\n",
    "prefixs = None"
   ]
  },
  {
   "cell_type": "code",
   "execution_count": 5,
   "metadata": {
    "gather": {
     "logged": 1669680161783
    },
    "jupyter": {
     "outputs_hidden": false,
     "source_hidden": false
    },
    "nteract": {
     "transient": {
      "deleting": false
     }
    }
   },
   "outputs": [
    {
     "name": "stderr",
     "output_type": "stream",
     "text": [
      "C:\\Users\\zwdua\\AppData\\Local\\Packages\\PythonSoftwareFoundation.Python.3.10_qbz5n2kfra8p0\\LocalCache\\local-packages\\Python310\\site-packages\\torchvision\\transforms\\transforms.py:899: UserWarning: Argument 'interpolation' of type int is deprecated since 0.13 and will be removed in 0.15. Please use InterpolationMode enum.\n",
      "  warnings.warn(\n"
     ]
    }
   ],
   "source": [
    "# build transforms\n",
    "cfg = {\n",
    "    'crop_region_extend_in_datatransform': 4,\n",
    "    'data_normalize': 'clip',\n",
    "    'train_crop_size': 224,\n",
    "    'input_small_scale': 0.8,\n",
    "    'no_color_jitter': True,\n",
    "    'no_flip': True,\n",
    "    'no_aspect_dist': True,\n",
    "    'interpolation': 'bicubic',\n",
    "    'min_size_range32': [160, 224], # in pretraining, it is multi-scale from 160 to 224; while for fine-tuning, it is single scale\n",
    "    'patch_size': 16,\n",
    "    'train_transform': 'vitp',\n",
    "}\n",
    "cfg = Config(cfg, {})\n",
    "tokenizer = BertTokenizer.from_pretrained('bert-base-uncased', do_lower_case=True)\n",
    "image_transform = get_image_transform_GIT(cfg)\n"
   ]
  },
  {
   "cell_type": "code",
   "execution_count": 6,
   "metadata": {
    "gather": {
     "logged": 1669680227747
    },
    "jupyter": {
     "outputs_hidden": false,
     "source_hidden": false
    },
    "nteract": {
     "transient": {
      "deleting": false
     }
    }
   },
   "outputs": [
    {
     "name": "stdout",
     "output_type": "stream",
     "text": [
      "Training dataset 2912\n"
     ]
    },
    {
     "name": "stderr",
     "output_type": "stream",
     "text": [
      "2912it [03:29, 13.89it/s]\n"
     ]
    },
    {
     "name": "stdout",
     "output_type": "stream",
     "text": [
      "Validation dataset 52\n"
     ]
    },
    {
     "name": "stderr",
     "output_type": "stream",
     "text": [
      "52it [00:01, 30.05it/s]\n"
     ]
    }
   ],
   "source": [
    "# prepossessing data\n",
    "torch.cuda.empty_cache()\n",
    "\n",
    "\n",
    "def fill_batches(images, captions, batch_size):\n",
    "    length = len(images)\n",
    "    if length%batch_size != 0:\n",
    "        idx = np.random.choice(np.arange(length - length%batch_size), batch_size - length%batch_size, replace=False)\n",
    "        return np.concatenate((images[idx],images)), np.concatenate((captions[idx],captions))\n",
    "    else:\n",
    "        return images, captions\n",
    "\n",
    "# prepare training dataset\n",
    "batch_size = 14\n",
    "images_train, captions_train = fill_batches(images_train, captions_train, batch_size)\n",
    "\n",
    "data_train = []\n",
    "batch = []\n",
    "num = 0\n",
    "\n",
    "prefixs = [''] * len(captions_train)\n",
    "print(f'Training dataset {len(images_train)}')\n",
    "for image_file, prefix, target in tqm(zip(images_train, prefixs, captions_train)):\n",
    "    #print(image_file, prefix, target)\n",
    "    data = get_data(image_file, prefix, target,\n",
    "                    tokenizer, image_transform)\n",
    "    num += 1\n",
    "    batch.append(data)\n",
    "    if num%batch_size == 0:\n",
    "        \n",
    "        data_train.append(batch)\n",
    "        batch = []\n",
    "\n",
    "# record from where is val batches        \n",
    "tran_val_position = len(data_train)\n",
    "\n",
    "num = 0\n",
    "batch = []\n",
    "prefixs = [''] * len(captions_val)\n",
    "print(f'Validation dataset {len(images_val)}')\n",
    "for image_file, prefix, target in tqm(zip(images_val, prefixs, captions_val)):\n",
    "    #print(image_file, prefix, target)\n",
    "    data = get_data(image_file, prefix, target,\n",
    "                    tokenizer, image_transform)\n",
    "    num += 1\n",
    "    batch.append(data)\n",
    "    if num%batch_size == 0:\n",
    "        \n",
    "        data_train.append(batch)\n",
    "        batch = []\n",
    "if batch:\n",
    "    data_train.append(batch)\n",
    "\n",
    "data_train = [collate_fn(x) for x in data_train]\n",
    "data_train = recursive_to_device(data_train, 'cuda')\n",
    "\n"
   ]
  },
  {
   "cell_type": "code",
   "execution_count": 7,
   "metadata": {
    "gather": {
     "logged": 1669680263813
    },
    "jupyter": {
     "outputs_hidden": false,
     "source_hidden": false
    },
    "nteract": {
     "transient": {
      "deleting": false
     }
    }
   },
   "outputs": [
    {
     "name": "stderr",
     "output_type": "stream",
     "text": [
      "C:\\Users\\zwdua\\AppData\\Local\\Packages\\PythonSoftwareFoundation.Python.3.10_qbz5n2kfra8p0\\LocalCache\\local-packages\\Python310\\site-packages\\torchvision\\transforms\\transforms.py:329: UserWarning: Argument 'interpolation' of type int is deprecated since 0.13 and will be removed in 0.15. Please use InterpolationMode enum.\n",
      "  warnings.warn(\n"
     ]
    }
   ],
   "source": [
    "# load model\n",
    "param  = {}\n",
    "model = get_git_model(tokenizer, param)\n",
    "pretrained = 'BASE_COCO_checkpoint.pt'\n",
    "loaded_checkpoint = torch_load(pretrained)\n",
    "checkpoint = loaded_checkpoint['model']\n",
    "load_state_dict(model, checkpoint)\n",
    "model.train()\n",
    "model.cuda();"
   ]
  },
  {
   "cell_type": "code",
   "execution_count": 8,
   "metadata": {
    "gather": {
     "logged": 1669679942331
    },
    "jupyter": {
     "outputs_hidden": false,
     "source_hidden": false
    },
    "nteract": {
     "transient": {
      "deleting": false
     }
    }
   },
   "outputs": [],
   "source": [
    "#len(data_train), tran_val_position"
   ]
  },
  {
   "cell_type": "code",
   "execution_count": 9,
   "metadata": {
    "gather": {
     "logged": 1669680263873
    },
    "jupyter": {
     "outputs_hidden": false,
     "source_hidden": false
    },
    "nteract": {
     "transient": {
      "deleting": false
     }
    }
   },
   "outputs": [],
   "source": [
    "import time\n",
    "import copy\n",
    "lr = 1e-6\n",
    "gamma=0.9\n",
    "opt = torch.optim.Adam(model.parameters(), lr =lr)\n",
    "scheduler = torch.optim.lr_scheduler.StepLR(opt, step_size=10, gamma=gamma)"
   ]
  },
  {
   "cell_type": "code",
   "execution_count": 10,
   "metadata": {
    "gather": {
     "logged": 1669680272301
    },
    "jupyter": {
     "outputs_hidden": false,
     "source_hidden": false
    },
    "nteract": {
     "transient": {
      "deleting": false
     }
    },
    "scrolled": true
   },
   "outputs": [
    {
     "name": "stdout",
     "output_type": "stream",
     "text": [
      "epoch 0 \n",
      "\n",
      "    Iter 1: loss: 5.231799125671387\n",
      "    Iter 2: loss: 5.5500407218933105\n",
      "    Iter 3: loss: 5.230072021484375\n",
      "    Iter 4: loss: 5.4163818359375\n",
      "    Iter 5: loss: 5.0238118171691895\n",
      "    Iter 6: loss: 5.5654778480529785\n",
      "    Iter 7: loss: 4.498833656311035\n",
      "    Iter 8: loss: 5.394659996032715\n",
      "    Iter 9: loss: 5.138285160064697\n",
      "    Iter 10: loss: 4.507847309112549\n",
      "    Iter 11: loss: 5.2450337409973145\n",
      "    Iter 12: loss: 4.553411960601807\n",
      "    Iter 13: loss: 5.143592834472656\n",
      "    Iter 14: loss: 4.809286594390869\n",
      "    Iter 15: loss: 4.9017510414123535\n",
      "    Iter 16: loss: 4.959351539611816\n",
      "    Iter 17: loss: 4.381208419799805\n",
      "    Iter 18: loss: 4.571835517883301\n",
      "    Iter 19: loss: 4.65532112121582\n",
      "    Iter 20: loss: 4.979959011077881\n",
      "    Iter 21: loss: 4.534088611602783\n",
      "    Iter 22: loss: 4.876745223999023\n",
      "    Iter 23: loss: 5.391257286071777\n",
      "    Iter 24: loss: 4.59967565536499\n",
      "    Iter 25: loss: 4.92580509185791\n",
      "    Iter 26: loss: 4.543792724609375\n",
      "    Iter 27: loss: 5.309393882751465\n",
      "    Iter 28: loss: 4.879691123962402\n",
      "    Iter 29: loss: 5.205039024353027\n",
      "    Iter 30: loss: 4.289458751678467\n",
      "    Iter 31: loss: 4.1299262046813965\n",
      "    Iter 32: loss: 4.966474533081055\n",
      "    Iter 33: loss: 4.970585823059082\n",
      "    Iter 34: loss: 4.63057279586792\n",
      "    Iter 35: loss: 4.642645835876465\n",
      "    Iter 36: loss: 4.571061611175537\n",
      "    Iter 37: loss: 4.558671474456787\n",
      "    Iter 38: loss: 4.978213787078857\n",
      "    Iter 39: loss: 4.524693965911865\n",
      "    Iter 40: loss: 4.689796447753906\n",
      "    Iter 41: loss: 4.897397518157959\n",
      "    Iter 42: loss: 4.216670989990234\n",
      "    Iter 43: loss: 4.313867092132568\n",
      "    Iter 44: loss: 4.814885139465332\n",
      "    Iter 45: loss: 5.118436336517334\n",
      "    Iter 46: loss: 4.830643653869629\n",
      "    Iter 47: loss: 4.588385581970215\n",
      "    Iter 48: loss: 4.526426315307617\n",
      "    Iter 49: loss: 4.922079086303711\n",
      "    Iter 50: loss: 5.02614164352417\n",
      "    Iter 51: loss: 5.180426597595215\n",
      "    Iter 52: loss: 5.154910564422607\n",
      "    Iter 53: loss: 4.69796895980835\n",
      "    Iter 54: loss: 4.98286771774292\n",
      "    Iter 55: loss: 5.337210178375244\n",
      "    Iter 56: loss: 4.630875587463379\n",
      "    Iter 57: loss: 4.489129066467285\n",
      "    Iter 58: loss: 4.905035972595215\n",
      "    Iter 59: loss: 4.846766948699951\n",
      "    Iter 60: loss: 4.3567633628845215\n",
      "    Iter 61: loss: 4.20578670501709\n",
      "    Iter 62: loss: 4.5096611976623535\n",
      "    Iter 63: loss: 5.099431991577148\n",
      "    Iter 64: loss: 4.605958938598633\n",
      "    Iter 65: loss: 4.693682670593262\n",
      "    Iter 66: loss: 4.675759792327881\n",
      "    Iter 67: loss: 4.689882278442383\n",
      "    Iter 68: loss: 4.689224720001221\n",
      "    Iter 69: loss: 4.257046222686768\n",
      "    Iter 70: loss: 4.787474155426025\n",
      "    Iter 71: loss: 4.797203540802002\n",
      "    Iter 72: loss: 4.25230598449707\n",
      "    Iter 73: loss: 4.718123435974121\n",
      "    Iter 74: loss: 4.867644309997559\n",
      "    Iter 75: loss: 4.636538028717041\n",
      "    Iter 76: loss: 4.790255069732666\n",
      "    Iter 77: loss: 4.027105331420898\n",
      "    Iter 78: loss: 5.1524786949157715\n",
      "    Iter 79: loss: 4.749508857727051\n",
      "    Iter 80: loss: 4.6191205978393555\n",
      "    Iter 81: loss: 5.136439800262451\n",
      "    Iter 82: loss: 4.752575397491455\n",
      "    Iter 83: loss: 4.455714702606201\n",
      "    Iter 84: loss: 4.912631034851074\n",
      "    Iter 85: loss: 4.677927017211914\n",
      "    Iter 86: loss: 4.395482540130615\n",
      "    Iter 87: loss: 4.803186416625977\n",
      "    Iter 88: loss: 4.809091567993164\n",
      "    Iter 89: loss: 5.023207187652588\n",
      "    Iter 90: loss: 5.443717002868652\n",
      "    Iter 91: loss: 4.7339959144592285\n",
      "    Iter 92: loss: 4.631231784820557\n",
      "    Iter 93: loss: 4.9941487312316895\n",
      "    Iter 94: loss: 4.247809886932373\n",
      "    Iter 95: loss: 4.748374938964844\n",
      "    Iter 96: loss: 5.215290546417236\n",
      "    Iter 97: loss: 4.943385124206543\n",
      "    Iter 98: loss: 4.859812259674072\n",
      "    Iter 99: loss: 5.318517208099365\n",
      "    Iter 100: loss: 5.019563674926758\n",
      "    Iter 101: loss: 4.637312889099121\n",
      "    Iter 102: loss: 4.9048991203308105\n",
      "    Iter 103: loss: 4.429877281188965\n",
      "    Iter 104: loss: 4.505749225616455\n",
      "    Iter 105: loss: 5.0786967277526855\n",
      "    Iter 106: loss: 4.57625150680542\n",
      "    Iter 107: loss: 4.437978267669678\n",
      "    Iter 108: loss: 4.350852966308594\n",
      "    Iter 109: loss: 4.370279312133789\n",
      "    Iter 110: loss: 4.927502632141113\n",
      "    Iter 111: loss: 4.479996204376221\n",
      "    Iter 112: loss: 4.868437767028809\n",
      "    Iter 113: loss: 5.246007919311523\n",
      "    Iter 114: loss: 3.898940086364746\n",
      "    Iter 115: loss: 4.648163318634033\n",
      "    Iter 116: loss: 4.646317481994629\n",
      "    Iter 117: loss: 3.9794886112213135\n",
      "    Iter 118: loss: 4.90672492980957\n",
      "    Iter 119: loss: 4.794068336486816\n",
      "    Iter 120: loss: 5.128957748413086\n",
      "    Iter 121: loss: 4.950573444366455\n",
      "    Iter 122: loss: 3.931854248046875\n",
      "    Iter 123: loss: 4.358994960784912\n",
      "    Iter 124: loss: 4.4222941398620605\n",
      "    Iter 125: loss: 4.672501564025879\n",
      "    Iter 126: loss: 4.512659072875977\n",
      "    Iter 127: loss: 4.413949012756348\n",
      "    Iter 128: loss: 4.4437255859375\n",
      "    Iter 129: loss: 4.853850841522217\n",
      "    Iter 130: loss: 4.400073528289795\n",
      "    Iter 131: loss: 4.917956829071045\n",
      "    Iter 132: loss: 4.690478324890137\n",
      "    Iter 133: loss: 4.400859355926514\n",
      "    Iter 134: loss: 5.1246137619018555\n",
      "    Iter 135: loss: 5.131923675537109\n",
      "    Iter 136: loss: 4.1908040046691895\n",
      "    Iter 137: loss: 4.466498851776123\n",
      "    Iter 138: loss: 3.911140203475952\n",
      "    Iter 139: loss: 4.55087947845459\n",
      "    Iter 140: loss: 5.1574506759643555\n",
      "    Iter 141: loss: 4.888419151306152\n",
      "    Iter 142: loss: 4.591965675354004\n",
      "    Iter 143: loss: 4.477327823638916\n",
      "    Iter 144: loss: 4.430088996887207\n",
      "    Iter 145: loss: 4.406857013702393\n",
      "    Iter 146: loss: 5.1377949714660645\n",
      "    Iter 147: loss: 4.6262383460998535\n",
      "    Iter 148: loss: 4.852639198303223\n",
      "    Iter 149: loss: 4.681257724761963\n",
      "    Iter 150: loss: 4.279016971588135\n",
      "    Iter 151: loss: 4.933798313140869\n",
      "    Iter 152: loss: 4.65120792388916\n",
      "    Iter 153: loss: 4.775543212890625\n",
      "    Iter 154: loss: 4.604731559753418\n",
      "    Iter 155: loss: 4.424696445465088\n",
      "    Iter 156: loss: 5.0658369064331055\n",
      "    Iter 157: loss: 4.973830699920654\n",
      "    Iter 158: loss: 4.773749351501465\n",
      "    Iter 159: loss: 4.848546504974365\n",
      "    Iter 160: loss: 4.500694751739502\n",
      "    Iter 161: loss: 4.347193241119385\n",
      "    Iter 162: loss: 4.584556579589844\n",
      "    Iter 163: loss: 4.234323024749756\n",
      "    Iter 164: loss: 4.518632411956787\n",
      "    Iter 165: loss: 4.302608489990234\n",
      "    Iter 166: loss: 4.891738414764404\n",
      "    Iter 167: loss: 4.276330471038818\n",
      "    Iter 168: loss: 4.72034215927124\n",
      "    Iter 169: loss: 3.8289716243743896\n",
      "    Iter 170: loss: 4.669025421142578\n",
      "    Iter 171: loss: 4.355689525604248\n",
      "    Iter 172: loss: 4.418548107147217\n",
      "    Iter 173: loss: 4.471026420593262\n",
      "    Iter 174: loss: 4.751155376434326\n",
      "    Iter 175: loss: 4.678596496582031\n",
      "    Iter 176: loss: 4.672729015350342\n",
      "    Iter 177: loss: 4.955872058868408\n",
      "    Iter 178: loss: 4.729550361633301\n",
      "    Iter 179: loss: 4.884329795837402\n",
      "    Iter 180: loss: 4.7283935546875\n",
      "    Iter 181: loss: 4.923199653625488\n",
      "    Iter 182: loss: 4.332237243652344\n",
      "    Iter 183: loss: 5.429595947265625\n",
      "    Iter 184: loss: 4.732692718505859\n",
      "    Iter 185: loss: 4.376607894897461\n",
      "    Iter 186: loss: 4.145572662353516\n",
      "    Iter 187: loss: 4.159056663513184\n",
      "    Iter 188: loss: 4.720346927642822\n",
      "    Iter 189: loss: 4.7481689453125\n",
      "    Iter 190: loss: 4.225189208984375\n",
      "    Iter 191: loss: 4.325577735900879\n",
      "    Iter 192: loss: 4.161460876464844\n",
      "    Iter 193: loss: 4.345030784606934\n",
      "    Iter 194: loss: 4.487256050109863\n",
      "    Iter 195: loss: 4.375691890716553\n",
      "    Iter 196: loss: 5.081943035125732\n",
      "    Iter 197: loss: 4.789793491363525\n",
      "    Iter 198: loss: 4.972668170928955\n",
      "    Iter 199: loss: 4.682191371917725\n",
      "    Iter 200: loss: 4.576211929321289\n",
      "    Iter 201: loss: 4.797967433929443\n",
      "    Iter 202: loss: 4.648660659790039\n",
      "    Iter 203: loss: 4.657449722290039\n",
      "    Iter 204: loss: 4.317434787750244\n",
      "    Iter 205: loss: 5.014017105102539\n",
      "    Iter 206: loss: 5.320103645324707\n",
      "    Iter 207: loss: 4.79702091217041\n",
      "    Iter 208: loss: 4.881108283996582\n",
      "  training loss: 4.711761675201929,                            validation loss: 4.415724992752075\n"
     ]
    }
   ],
   "source": [
    "# training the model\n",
    "torch.cuda.empty_cache()\n",
    "epochs = 1\n",
    "iteration =0\n",
    "patient = 5\n",
    "\n",
    "train_batch_loss = []\n",
    "train_loss = []\n",
    "val_loss = []\n",
    "start = time.time()\n",
    "\n",
    "# save best model\n",
    "best_model_wts = copy.deepcopy(model.state_dict())\n",
    "best_loss = 1e6\n",
    "best_epoch = 0\n",
    "\n",
    "for epoch in range(epochs):\n",
    "    \n",
    "    train_epoch_losses = []\n",
    "    val_epoch_losses = []\n",
    "    val_batch_num = 0\n",
    "    print(f\"epoch {epoch} \\n\")\n",
    "    for i, batch in enumerate(data_train):\n",
    "       \n",
    "        if i < tran_val_position:\n",
    "            # the batch use now is for training\n",
    "            opt.zero_grad() # \n",
    "            loss_dict = model(batch)\n",
    "            loss = sum(loss_dict.values())\n",
    "            loss.backward()\n",
    "            opt.step()\n",
    "            train_epoch_losses.append(loss.item())\n",
    "            train_batch_loss.append(loss.item())\n",
    "            iteration += 1\n",
    "            \n",
    "            print(f\"    Iter {iteration}: loss: {loss}\")\n",
    "        #print(f\"epoch {epoch}: loss: {sum(losses)/len(losses)}\")\n",
    "        else:\n",
    "            \n",
    "            # batch for validation\n",
    "            # Set model to evaluate mode\n",
    "\n",
    "            opt.zero_grad()\n",
    "            #with torch.inference_mode():               \n",
    "            loss_dict = model(batch)\n",
    "            loss = sum(loss_dict.values())\n",
    "            \n",
    "            loss.backward()\n",
    "            val_epoch_losses.append(loss.item())\n",
    "            \n",
    "            val_batch_num += 1\n",
    "            \n",
    "            #print(f\"    Val batch  {val_batch_num}: loss: {loss}\")\n",
    "    val_batch_avgLoss = sum(val_epoch_losses)/len(val_epoch_losses) if len(val_epoch_losses) != 0 else 0\n",
    "    train_batch_avgLoss = sum(train_epoch_losses)/len(train_epoch_losses)\n",
    "    val_loss.append(val_batch_avgLoss)\n",
    "    train_loss.append(train_batch_avgLoss)\n",
    "    scheduler.step()\n",
    "    if val_batch_avgLoss < best_loss:\n",
    "        best_loss = val_batch_avgLoss\n",
    "        best_model_wts = copy.deepcopy(model.state_dict())\n",
    "        best_epoch = epoch\n",
    "        stop_num =0\n",
    "    else:\n",
    "        stop_num += 1\n",
    "    \n",
    "    if stop_num>=patient:\n",
    "        break\n",
    "        \n",
    "    print(f\"  training loss: {train_batch_avgLoss},\\\n",
    "                            validation loss: {val_batch_avgLoss}\")\n",
    "end = time.time()"
   ]
  },
  {
   "cell_type": "code",
   "execution_count": 13,
   "metadata": {},
   "outputs": [],
   "source": [
    "#torch.cuda.is_available()"
   ]
  },
  {
   "cell_type": "code",
   "execution_count": 14,
   "metadata": {
    "jupyter": {
     "outputs_hidden": false,
     "source_hidden": false
    },
    "nteract": {
     "transient": {
      "deleting": false
     }
    }
   },
   "outputs": [],
   "source": [
    "PATH = \"hau-finetuned-checkpoint_final.pt\"\n",
    "\n",
    "torch.save({'lr' : lr,\n",
    "            'gamma' : gamma,\n",
    "            'epoch': epoch,\n",
    "            'batch_size': batch_size,\n",
    "            'model_state_dict': model.state_dict(),\n",
    "            'optimizer_state_dict': opt.state_dict(),\n",
    "            'scheduler_state_dict': scheduler.state_dict(),\n",
    "            'train_loss':train_loss,\n",
    "            'val_loss':val_loss\n",
    "            }, PATH)\n"
   ]
  },
  {
   "cell_type": "code",
   "execution_count": 11,
   "metadata": {},
   "outputs": [],
   "source": [
    "PATH = \"tha-finetuned-checkpoint_best1.pt\"\n",
    "\n",
    "torch.save({'lr' : lr,\n",
    "            'gamma' : gamma,\n",
    "            'epoch': best_epoch,\n",
    "            'batch_size': batch_size,\n",
    "            'model_state_dict': best_model_wts,\n",
    "            'optimizer_state_dict': opt.state_dict(),\n",
    "            'scheduler_state_dict': scheduler.state_dict(),\n",
    "             'train_loss':train_loss,\n",
    "            'val_loss':val_loss\n",
    "            }, PATH)"
   ]
  },
  {
   "cell_type": "code",
   "execution_count": null,
   "metadata": {
    "jupyter": {
     "outputs_hidden": false,
     "source_hidden": false
    },
    "nteract": {
     "transient": {
      "deleting": false
     }
    }
   },
   "outputs": [],
   "source": []
  },
  {
   "cell_type": "markdown",
   "metadata": {
    "nteract": {
     "transient": {
      "deleting": false
     }
    }
   },
   "source": [
    "### Inference on  Images"
   ]
  },
  {
   "cell_type": "code",
   "execution_count": 3,
   "metadata": {
    "gather": {
     "logged": 1669503319108
    },
    "jupyter": {
     "outputs_hidden": false,
     "source_hidden": false
    },
    "nteract": {
     "transient": {
      "deleting": false
     }
    }
   },
   "outputs": [],
   "source": [
    "# # tokenizer, prepossessing\n",
    "# param = {}\n",
    "# tokenizer = BertTokenizer.from_pretrained('bert-base-uncased', do_lower_case=True)\n",
    "\n",
    "# # transforms\n",
    "# transforms = get_image_transform(param)\n",
    "\n",
    "# # load model\n",
    "# model = get_git_model(tokenizer, param)\n",
    "# pretrained = 'BASE_COCO_checkpoint.pt'\n",
    "# loaded_checkpoint = torch_load(pretrained)\n",
    "# checkpoint = loaded_checkpoint['model']\n",
    "# load_state_dict(model, checkpoint)\n",
    "\n",
    "# # evaluate mode\n",
    "# model.eval()\n",
    "# torch.cuda.set_device(get_mpi_local_rank())\n",
    "# model.cuda()\n"
   ]
  },
  {
   "cell_type": "code",
   "execution_count": 5,
   "metadata": {
    "scrolled": false
   },
   "outputs": [
    {
     "data": {
      "text/html": [
       "<div>\n",
       "<style scoped>\n",
       "    .dataframe tbody tr th:only-of-type {\n",
       "        vertical-align: middle;\n",
       "    }\n",
       "\n",
       "    .dataframe tbody tr th {\n",
       "        vertical-align: top;\n",
       "    }\n",
       "\n",
       "    .dataframe thead th {\n",
       "        text-align: right;\n",
       "    }\n",
       "</style>\n",
       "<table border=\"1\" class=\"dataframe\">\n",
       "  <thead>\n",
       "    <tr style=\"text-align: right;\">\n",
       "      <th></th>\n",
       "      <th>Id</th>\n",
       "      <th>ImageURL</th>\n",
       "      <th>ISO639-3</th>\n",
       "      <th>Path</th>\n",
       "    </tr>\n",
       "  </thead>\n",
       "  <tbody>\n",
       "    <tr>\n",
       "      <th>0</th>\n",
       "      <td>0293a8c7-b69e-4c58-8caf-4a58e17bbacb_kir</td>\n",
       "      <td>https://bloom-vist.s3.amazonaws.com/%D0%A6%D0%...</td>\n",
       "      <td>kir</td>\n",
       "      <td>image_test/0293a8c7-b69e-4c58-8caf-4a58e17bbac...</td>\n",
       "    </tr>\n",
       "    <tr>\n",
       "      <th>1</th>\n",
       "      <td>04a00291-ef0f-4bb5-8b37-75d300ceffaf_kir</td>\n",
       "      <td>https://bloom-vist.s3.amazonaws.com/%D0%9C%D0%...</td>\n",
       "      <td>kir</td>\n",
       "      <td>image_test/04a00291-ef0f-4bb5-8b37-75d300ceffa...</td>\n",
       "    </tr>\n",
       "    <tr>\n",
       "      <th>2</th>\n",
       "      <td>0da41c23-0b28-46ba-853c-bbef07dfbbbc_kir</td>\n",
       "      <td>https://bloom-vist.s3.amazonaws.com/%D0%A1%D1%...</td>\n",
       "      <td>kir</td>\n",
       "      <td>image_test/0da41c23-0b28-46ba-853c-bbef07dfbbb...</td>\n",
       "    </tr>\n",
       "    <tr>\n",
       "      <th>3</th>\n",
       "      <td>0de1bb36-93b8-4457-9570-33b72827c2f0_kir</td>\n",
       "      <td>https://bloom-vist.s3.amazonaws.com/%D0%9A%D3%...</td>\n",
       "      <td>kir</td>\n",
       "      <td>image_test/0de1bb36-93b8-4457-9570-33b72827c2f...</td>\n",
       "    </tr>\n",
       "    <tr>\n",
       "      <th>4</th>\n",
       "      <td>0df6e791-2aab-4a7d-8c87-077cdc47c674_kir</td>\n",
       "      <td>https://bloom-vist.s3.amazonaws.com/%D0%9C%D0%...</td>\n",
       "      <td>kir</td>\n",
       "      <td>image_test/0df6e791-2aab-4a7d-8c87-077cdc47c67...</td>\n",
       "    </tr>\n",
       "    <tr>\n",
       "      <th>...</th>\n",
       "      <td>...</td>\n",
       "      <td>...</td>\n",
       "      <td>...</td>\n",
       "      <td>...</td>\n",
       "    </tr>\n",
       "    <tr>\n",
       "      <th>62</th>\n",
       "      <td>06d4f633-edcd-46b5-bd83-f6d349cb5445_kir</td>\n",
       "      <td>https://bloom-vist.s3.amazonaws.com/test/testk...</td>\n",
       "      <td>kir</td>\n",
       "      <td>image_test/06d4f633-edcd-46b5-bd83-f6d349cb544...</td>\n",
       "    </tr>\n",
       "    <tr>\n",
       "      <th>63</th>\n",
       "      <td>d8f01179-768f-4272-8309-b1bbf34188be_kir</td>\n",
       "      <td>https://bloom-vist.s3.amazonaws.com/test/testk...</td>\n",
       "      <td>kir</td>\n",
       "      <td>image_test/d8f01179-768f-4272-8309-b1bbf34188b...</td>\n",
       "    </tr>\n",
       "    <tr>\n",
       "      <th>64</th>\n",
       "      <td>e0331a04-0515-45db-8295-b8d4055f14c2_kir</td>\n",
       "      <td>https://bloom-vist.s3.amazonaws.com/test/testk...</td>\n",
       "      <td>kir</td>\n",
       "      <td>image_test/e0331a04-0515-45db-8295-b8d4055f14c...</td>\n",
       "    </tr>\n",
       "    <tr>\n",
       "      <th>65</th>\n",
       "      <td>20b040af-6cc2-4f62-b6ef-52f05e7559a8_kir</td>\n",
       "      <td>https://bloom-vist.s3.amazonaws.com/test/testk...</td>\n",
       "      <td>kir</td>\n",
       "      <td>image_test/20b040af-6cc2-4f62-b6ef-52f05e7559a...</td>\n",
       "    </tr>\n",
       "    <tr>\n",
       "      <th>66</th>\n",
       "      <td>40139a28-b764-4c8d-b26f-17b343c46760_kir</td>\n",
       "      <td>https://bloom-vist.s3.amazonaws.com/test/testk...</td>\n",
       "      <td>kir</td>\n",
       "      <td>image_test/40139a28-b764-4c8d-b26f-17b343c4676...</td>\n",
       "    </tr>\n",
       "  </tbody>\n",
       "</table>\n",
       "<p>67 rows × 4 columns</p>\n",
       "</div>"
      ],
      "text/plain": [
       "                                          Id  \\\n",
       "0   0293a8c7-b69e-4c58-8caf-4a58e17bbacb_kir   \n",
       "1   04a00291-ef0f-4bb5-8b37-75d300ceffaf_kir   \n",
       "2   0da41c23-0b28-46ba-853c-bbef07dfbbbc_kir   \n",
       "3   0de1bb36-93b8-4457-9570-33b72827c2f0_kir   \n",
       "4   0df6e791-2aab-4a7d-8c87-077cdc47c674_kir   \n",
       "..                                       ...   \n",
       "62  06d4f633-edcd-46b5-bd83-f6d349cb5445_kir   \n",
       "63  d8f01179-768f-4272-8309-b1bbf34188be_kir   \n",
       "64  e0331a04-0515-45db-8295-b8d4055f14c2_kir   \n",
       "65  20b040af-6cc2-4f62-b6ef-52f05e7559a8_kir   \n",
       "66  40139a28-b764-4c8d-b26f-17b343c46760_kir   \n",
       "\n",
       "                                             ImageURL ISO639-3  \\\n",
       "0   https://bloom-vist.s3.amazonaws.com/%D0%A6%D0%...      kir   \n",
       "1   https://bloom-vist.s3.amazonaws.com/%D0%9C%D0%...      kir   \n",
       "2   https://bloom-vist.s3.amazonaws.com/%D0%A1%D1%...      kir   \n",
       "3   https://bloom-vist.s3.amazonaws.com/%D0%9A%D3%...      kir   \n",
       "4   https://bloom-vist.s3.amazonaws.com/%D0%9C%D0%...      kir   \n",
       "..                                                ...      ...   \n",
       "62  https://bloom-vist.s3.amazonaws.com/test/testk...      kir   \n",
       "63  https://bloom-vist.s3.amazonaws.com/test/testk...      kir   \n",
       "64  https://bloom-vist.s3.amazonaws.com/test/testk...      kir   \n",
       "65  https://bloom-vist.s3.amazonaws.com/test/testk...      kir   \n",
       "66  https://bloom-vist.s3.amazonaws.com/test/testk...      kir   \n",
       "\n",
       "                                                 Path  \n",
       "0   image_test/0293a8c7-b69e-4c58-8caf-4a58e17bbac...  \n",
       "1   image_test/04a00291-ef0f-4bb5-8b37-75d300ceffa...  \n",
       "2   image_test/0da41c23-0b28-46ba-853c-bbef07dfbbb...  \n",
       "3   image_test/0de1bb36-93b8-4457-9570-33b72827c2f...  \n",
       "4   image_test/0df6e791-2aab-4a7d-8c87-077cdc47c67...  \n",
       "..                                                ...  \n",
       "62  image_test/06d4f633-edcd-46b5-bd83-f6d349cb544...  \n",
       "63  image_test/d8f01179-768f-4272-8309-b1bbf34188b...  \n",
       "64  image_test/e0331a04-0515-45db-8295-b8d4055f14c...  \n",
       "65  image_test/20b040af-6cc2-4f62-b6ef-52f05e7559a...  \n",
       "66  image_test/40139a28-b764-4c8d-b26f-17b343c4676...  \n",
       "\n",
       "[67 rows x 4 columns]"
      ]
     },
     "execution_count": 5,
     "metadata": {},
     "output_type": "execute_result"
    }
   ],
   "source": [
    "data = pd.read_csv('../test.csv')\n",
    "data = data[data['ISO639-3'] == 'kir']\n",
    "data = data.reset_index(drop = True)\n",
    "data"
   ]
  },
  {
   "cell_type": "code",
   "execution_count": 85,
   "metadata": {},
   "outputs": [
    {
     "data": {
      "text/html": [
       "<div>\n",
       "<style scoped>\n",
       "    .dataframe tbody tr th:only-of-type {\n",
       "        vertical-align: middle;\n",
       "    }\n",
       "\n",
       "    .dataframe tbody tr th {\n",
       "        vertical-align: top;\n",
       "    }\n",
       "\n",
       "    .dataframe thead th {\n",
       "        text-align: right;\n",
       "    }\n",
       "</style>\n",
       "<table border=\"1\" class=\"dataframe\">\n",
       "  <thead>\n",
       "    <tr style=\"text-align: right;\">\n",
       "      <th></th>\n",
       "      <th>image_id</th>\n",
       "      <th>image_url</th>\n",
       "      <th>caption</th>\n",
       "      <th>story_id</th>\n",
       "      <th>album_id</th>\n",
       "      <th>license</th>\n",
       "      <th>original_bloom_language_tag</th>\n",
       "      <th>index_in_story</th>\n",
       "      <th>image_path</th>\n",
       "      <th>English</th>\n",
       "    </tr>\n",
       "  </thead>\n",
       "  <tbody>\n",
       "    <tr>\n",
       "      <th>3</th>\n",
       "      <td>a0f8ad11-fdf9-4753-8ebf-9f1dd9190e11</td>\n",
       "      <td>https://bloom-vist.s3.amazonaws.com/%D0%A3%D0%...</td>\n",
       "      <td>– Сен бир кызыктай жөжө экенсиң! Биз сени мене...</td>\n",
       "      <td>a3669526-494b-4d6c-b3a3-5f744a46ed2e</td>\n",
       "      <td>f600fc2a-e715-471a-b42a-b09bc9205ca1</td>\n",
       "      <td>cc-by-nc</td>\n",
       "      <td>ky</td>\n",
       "      <td>3</td>\n",
       "      <td>images_kir/d737ad87-9e8c-4527-8a7b-7c88832f644...</td>\n",
       "      <td>- You are a strange little boy! We will not pl...</td>\n",
       "    </tr>\n",
       "  </tbody>\n",
       "</table>\n",
       "</div>"
      ],
      "text/plain": [
       "                               image_id  \\\n",
       "3  a0f8ad11-fdf9-4753-8ebf-9f1dd9190e11   \n",
       "\n",
       "                                           image_url  \\\n",
       "3  https://bloom-vist.s3.amazonaws.com/%D0%A3%D0%...   \n",
       "\n",
       "                                             caption  \\\n",
       "3  – Сен бир кызыктай жөжө экенсиң! Биз сени мене...   \n",
       "\n",
       "                               story_id                              album_id  \\\n",
       "3  a3669526-494b-4d6c-b3a3-5f744a46ed2e  f600fc2a-e715-471a-b42a-b09bc9205ca1   \n",
       "\n",
       "    license original_bloom_language_tag  index_in_story  \\\n",
       "3  cc-by-nc                          ky               3   \n",
       "\n",
       "                                          image_path  \\\n",
       "3  images_kir/d737ad87-9e8c-4527-8a7b-7c88832f644...   \n",
       "\n",
       "                                             English  \n",
       "3  - You are a strange little boy! We will not pl...  "
      ]
     },
     "execution_count": 85,
     "metadata": {},
     "output_type": "execute_result"
    }
   ],
   "source": [
    "hau = pd.read_csv('../kir_validation_dataframe.csv')\n",
    "hau = hau.iloc[[3],:]\n",
    "hau"
   ]
  },
  {
   "cell_type": "code",
   "execution_count": 86,
   "metadata": {},
   "outputs": [
    {
     "data": {
      "text/plain": [
       "(array(['– Сен бир кызыктай жөжө экенсиң! Биз сени менен экинчи ойнобойбуз!\\xa0– деп айтып, кетип калышты.'],\n",
       "       dtype=object),\n",
       " array(['- You are a strange little boy! We will not play with you again! - they said and left.'],\n",
       "       dtype=object))"
      ]
     },
     "execution_count": 86,
     "metadata": {},
     "output_type": "execute_result"
    }
   ],
   "source": [
    "hau['caption'].values, hau['English'].values,"
   ]
  },
  {
   "cell_type": "code",
   "execution_count": 87,
   "metadata": {},
   "outputs": [],
   "source": [
    "image_path = ['../'+x for x in hau['image_path'].values]\n"
   ]
  },
  {
   "cell_type": "code",
   "execution_count": 96,
   "metadata": {},
   "outputs": [],
   "source": [
    "# tokenizer, prepossessing\n",
    "param = {}\n",
    "tokenizer = BertTokenizer.from_pretrained('bert-base-uncased', do_lower_case=True)\n",
    "\n",
    "# transforms\n",
    "transforms = get_image_transform(param)\n",
    "\n",
    "# load model\n",
    "\n",
    "model = get_git_model(tokenizer, param)\n",
    "# pretrained = '../TrainedModel/hau-finetuned-checkpoint_best.pt'\n",
    "# loaded_checkpoint = torch_load(pretrained)\n",
    "finetuneModel = torch.load('kir-finetuned-checkpoint_final.pt')\n",
    "model.load_state_dict(finetuneModel['model_state_dict'])\n",
    "\n",
    "# evaluate mode\n",
    "model.eval()\n",
    "torch.cuda.set_device(get_mpi_local_rank())\n",
    "model.cuda();"
   ]
  },
  {
   "cell_type": "code",
   "execution_count": 93,
   "metadata": {},
   "outputs": [
    {
     "data": {
      "text/plain": [
       "dict_keys(['lr', 'gamma', 'epoch', 'batch_size', 'model_state_dict', 'optimizer_state_dict', 'scheduler_state_dict', 'train_loss', 'val_loss'])"
      ]
     },
     "execution_count": 93,
     "metadata": {},
     "output_type": "execute_result"
    }
   ],
   "source": [
    "finetuneModel.keys()"
   ]
  },
  {
   "cell_type": "code",
   "execution_count": 97,
   "metadata": {},
   "outputs": [
    {
     "data": {
      "text/plain": [
       "[3.966517637112389,\n",
       " 3.5359901189804077,\n",
       " 3.258497467801615,\n",
       " 3.031702443865911,\n",
       " 2.830238574121627,\n",
       " 2.6406819549806277,\n",
       " 2.45328255957621,\n",
       " 2.2844356927403644,\n",
       " 2.13612606902064,\n",
       " 1.995205142381001,\n",
       " 1.8593896353171646,\n",
       " 1.7190394908006936,\n",
       " 1.601827605096109,\n",
       " 1.495072537496046]"
      ]
     },
     "execution_count": 97,
     "metadata": {},
     "output_type": "execute_result"
    }
   ],
   "source": [
    "finetuneModel['train_loss']"
   ]
  },
  {
   "cell_type": "code",
   "execution_count": 98,
   "metadata": {},
   "outputs": [
    {
     "data": {
      "text/plain": [
       "[3.761474847793579,\n",
       " 3.6779261112213133,\n",
       " 3.6856510162353517,\n",
       " 3.6381295204162596,\n",
       " 3.690618896484375,\n",
       " 3.729967737197876,\n",
       " 3.794285297393799,\n",
       " 3.820425605773926,\n",
       " 3.895233392715454,\n",
       " 3.9396831035614013,\n",
       " 3.949754238128662,\n",
       " 4.000078201293945,\n",
       " 4.067960166931153,\n",
       " 4.110282039642334]"
      ]
     },
     "execution_count": 98,
     "metadata": {},
     "output_type": "execute_result"
    }
   ],
   "source": [
    "finetuneModel['val_loss']"
   ]
  },
  {
   "cell_type": "code",
   "execution_count": 89,
   "metadata": {
    "gather": {
     "logged": 1669503319118
    },
    "jupyter": {
     "outputs_hidden": false,
     "source_hidden": false
    },
    "nteract": {
     "transient": {
      "deleting": false
     }
    }
   },
   "outputs": [
    {
     "name": "stderr",
     "output_type": "stream",
     "text": [
      "100%|████████████████████████████████████████████████████████████████████████████████████| 1/1 [00:18<00:00, 18.50s/it]"
     ]
    },
    {
     "name": "stdout",
     "output_type": "stream",
     "text": [
      "the ducks are very happy.\n"
     ]
    },
    {
     "name": "stderr",
     "output_type": "stream",
     "text": [
      "\n"
     ]
    }
   ],
   "source": [
    "# define your image paths here\n",
    "#image_path = ['aux_data/images/1.jpg', 'aux_data/images/009dd2f8-5ba2-4ab0-93ba-4f15869e4d5d.jpg', 'aux_data/images/00f3aaf2-d1d7-4ea7-829d-00f83db4fca1.jpg']\n",
    "#image_path = ['aux_data/images/00f3aaf2-d1d7-4ea7-829d-00f83db4fca1.jpg']\n",
    "image_path = ['../'+x for x in hau['image_path'].values]\n",
    "\n",
    "if isinstance(image_path, str):\n",
    "    image_path = [image_path]\n",
    "# if it is more than 1 image, it is normally a video with multiple image\n",
    "# frames\n",
    "img = [load_image_by_pil(i) for i in image_path]\n",
    "\n",
    "#transforms = get_image_transform(param)\n",
    "img = [transforms(i) for i in img]\n",
    "img = [i.unsqueeze(0).cuda() for i in img]\n",
    "prefix = ''\n",
    "# prefix\n",
    "max_text_len = 50\n",
    "prefix_encoding = tokenizer(prefix,\n",
    "                            padding='do_not_pad',\n",
    "                            \n",
    "                            truncation=True,\n",
    "                            add_special_tokens=False,\n",
    "                            max_length=max_text_len)\n",
    "payload = prefix_encoding['input_ids']\n",
    "if len(payload) > max_text_len - 2:\n",
    "    payload = payload[-(max_text_len - 2):]\n",
    "input_ids = [tokenizer.cls_token_id] + payload\n",
    "\n",
    "with torch.no_grad():\n",
    "    results = [model({\n",
    "        'image': image,\n",
    "        'prefix': torch.tensor(input_ids).unsqueeze(0).cuda(),\n",
    "    }) for image in tqm(img)]\n",
    "cap = [tokenizer.decode(result['predictions'][0].tolist(), skip_special_tokens=True) for result in results]\n",
    "\n",
    "for i in cap:\n",
    "    print(i)"
   ]
  },
  {
   "cell_type": "code",
   "execution_count": 88,
   "metadata": {},
   "outputs": [
    {
     "data": {
      "image/png": "[encoded data removed]",
      "text/plain": [
       "<Figure size 432x288 with 1 Axes>"
      ]
     },
     "metadata": {
      "needs_background": "light"
     },
     "output_type": "display_data"
    }
   ],
   "source": [
    "import matplotlib.pyplot as plt\n",
    "import matplotlib.image as mpimg\n",
    "img = mpimg.imread(image_path[0])\n",
    "imgplot = plt.imshow(img)"
   ]
  },
  {
   "cell_type": "markdown",
   "metadata": {
    "nteract": {
     "transient": {
      "deleting": false
     }
    }
   },
   "source": [
    "### Inference on tsv file"
   ]
  },
  {
   "cell_type": "code",
   "execution_count": 2,
   "metadata": {},
   "outputs": [
    {
     "name": "stderr",
     "output_type": "stream",
     "text": [
      "C:\\Users\\zwdua\\AppData\\Local\\Packages\\PythonSoftwareFoundation.Python.3.10_qbz5n2kfra8p0\\LocalCache\\local-packages\\Python310\\site-packages\\torchvision\\transforms\\transforms.py:329: UserWarning: Argument 'interpolation' of type int is deprecated since 0.13 and will be removed in 0.15. Please use InterpolationMode enum.\n",
      "  warnings.warn(\n"
     ]
    }
   ],
   "source": [
    "# tokenizer, prepossessing\n",
    "param = {}\n",
    "tokenizer = BertTokenizer.from_pretrained('bert-base-uncased', do_lower_case=True)\n",
    "\n",
    "# transforms\n",
    "image_transform = get_image_transform(param)\n",
    "\n",
    "# load model\n",
    "\n",
    "model = get_git_model(tokenizer, param)\n",
    "# pretrained = '../TrainedModel/hau-finetuned-checkpoint_best.pt'\n",
    "# loaded_checkpoint = torch_load(pretrained)\n",
    "finetuneModel = torch.load('tha-finetuned-checkpoint_best1.pt')\n",
    "model.load_state_dict(finetuneModel['model_state_dict'])\n",
    "\n",
    "# evaluate mode\n",
    "model.eval()\n",
    "torch.cuda.set_device(get_mpi_local_rank())\n",
    "model.cuda();"
   ]
  },
  {
   "cell_type": "code",
   "execution_count": 3,
   "metadata": {
    "gather": {
     "logged": 1669409805264
    },
    "jupyter": {
     "outputs_hidden": false,
     "source_hidden": false
    },
    "nteract": {
     "transient": {
      "deleting": false
     }
    }
   },
   "outputs": [],
   "source": [
    "image_tsv = 'aux_data/images/test_tha.tsv'\n",
    "image_tsv = TSVFile(image_tsv)\n",
    "out_tsv = 'output/test_tha_output1.tsv'"
   ]
  },
  {
   "cell_type": "code",
   "execution_count": 4,
   "metadata": {
    "gather": {
     "logged": 1669410033065
    },
    "jupyter": {
     "outputs_hidden": false,
     "source_hidden": false
    },
    "nteract": {
     "transient": {
      "deleting": false
     }
    }
   },
   "outputs": [
    {
     "name": "stderr",
     "output_type": "stream",
     "text": [
      "tsv_io.py:384: 0it [00:00, ?it/s]\n",
      "tsv_io.py:384: 1it [00:29, 29.93s/it]                                                           | 0/69 [00:00<?, ?it/s]\u001b[A\n",
      "2519841281.py:20:   1%|▉                                                                | 1/69 [00:29<33:52, 29.89s/it]\u001b[A"
     ]
    },
    {
     "name": "stdout",
     "output_type": "stream",
     "text": [
      "<map object at 0x00000217B92A3370>\n"
     ]
    },
    {
     "name": "stderr",
     "output_type": "stream",
     "text": [
      "tsv_io.py:384: 2it [00:59, 30.00s/it]\n",
      "2519841281.py:20:   3%|█▉                                                               | 2/69 [00:59<33:28, 29.98s/it]\u001b[A"
     ]
    },
    {
     "name": "stdout",
     "output_type": "stream",
     "text": [
      "<map object at 0x00000217B92A3370>\n"
     ]
    },
    {
     "name": "stderr",
     "output_type": "stream",
     "text": [
      "tsv_io.py:384: 3it [01:40, 34.87s/it]\n",
      "2519841281.py:20:   4%|██▊                                                              | 3/69 [01:40<38:20, 34.86s/it]\u001b[A"
     ]
    },
    {
     "name": "stdout",
     "output_type": "stream",
     "text": [
      "<map object at 0x00000217B92A3370>\n"
     ]
    },
    {
     "name": "stderr",
     "output_type": "stream",
     "text": [
      "tsv_io.py:384: 4it [02:04, 30.42s/it]\n",
      "2519841281.py:20:   6%|███▊                                                             | 4/69 [02:04<32:57, 30.42s/it]\u001b[A"
     ]
    },
    {
     "name": "stdout",
     "output_type": "stream",
     "text": [
      "<map object at 0x00000217B92A3370>\n"
     ]
    },
    {
     "name": "stderr",
     "output_type": "stream",
     "text": [
      "tsv_io.py:384: 5it [02:31, 29.33s/it]\n",
      "2519841281.py:20:   7%|████▋                                                            | 5/69 [02:31<31:16, 29.32s/it]\u001b[A"
     ]
    },
    {
     "name": "stdout",
     "output_type": "stream",
     "text": [
      "<map object at 0x00000217B92A3370>\n"
     ]
    },
    {
     "name": "stderr",
     "output_type": "stream",
     "text": [
      "tsv_io.py:384: 6it [02:41, 22.67s/it]\n",
      "2519841281.py:20:   9%|█████▋                                                           | 6/69 [02:41<23:47, 22.66s/it]\u001b[A"
     ]
    },
    {
     "name": "stdout",
     "output_type": "stream",
     "text": [
      "<map object at 0x00000217B92A3370>\n"
     ]
    },
    {
     "name": "stderr",
     "output_type": "stream",
     "text": [
      "tsv_io.py:384: 7it [04:03, 42.00s/it]\n",
      "2519841281.py:20:  10%|██████▌                                                          | 7/69 [04:03<43:23, 42.00s/it]\u001b[A"
     ]
    },
    {
     "name": "stdout",
     "output_type": "stream",
     "text": [
      "<map object at 0x00000217B92A3370>\n"
     ]
    },
    {
     "name": "stderr",
     "output_type": "stream",
     "text": [
      "tsv_io.py:384: 8it [04:56, 45.66s/it]\n",
      "2519841281.py:20:  12%|███████▌                                                         | 8/69 [04:56<46:25, 45.66s/it]\u001b[A"
     ]
    },
    {
     "name": "stdout",
     "output_type": "stream",
     "text": [
      "<map object at 0x00000217B92A3370>\n"
     ]
    },
    {
     "name": "stderr",
     "output_type": "stream",
     "text": [
      "tsv_io.py:384: 9it [05:47, 47.13s/it]\n",
      "2519841281.py:20:  13%|████████▍                                                        | 9/69 [05:46<47:07, 47.13s/it]\u001b[A"
     ]
    },
    {
     "name": "stdout",
     "output_type": "stream",
     "text": [
      "<map object at 0x00000217B92A3370>\n"
     ]
    },
    {
     "name": "stderr",
     "output_type": "stream",
     "text": [
      "tsv_io.py:384: 10it [06:28, 45.26s/it]\n",
      "2519841281.py:20:  14%|█████████▎                                                      | 10/69 [06:28<44:30, 45.26s/it]\u001b[A"
     ]
    },
    {
     "name": "stdout",
     "output_type": "stream",
     "text": [
      "<map object at 0x00000217B92A3370>\n"
     ]
    },
    {
     "name": "stderr",
     "output_type": "stream",
     "text": [
      "tsv_io.py:384: 11it [07:43, 54.39s/it]\n",
      "2519841281.py:20:  16%|██████████▏                                                     | 11/69 [07:43<52:34, 54.39s/it]\u001b[A"
     ]
    },
    {
     "name": "stdout",
     "output_type": "stream",
     "text": [
      "<map object at 0x00000217B92A3370>\n"
     ]
    },
    {
     "name": "stderr",
     "output_type": "stream",
     "text": [
      "tsv_io.py:384: 12it [08:12, 46.61s/it]\n",
      "2519841281.py:20:  17%|███████████▏                                                    | 12/69 [08:11<44:16, 46.61s/it]\u001b[A"
     ]
    },
    {
     "name": "stdout",
     "output_type": "stream",
     "text": [
      "<map object at 0x00000217B92A3370>\n"
     ]
    },
    {
     "name": "stderr",
     "output_type": "stream",
     "text": [
      "tsv_io.py:384: 13it [08:52, 44.67s/it]\n",
      "2519841281.py:20:  19%|████████████                                                    | 13/69 [08:52<41:41, 44.67s/it]\u001b[A"
     ]
    },
    {
     "name": "stdout",
     "output_type": "stream",
     "text": [
      "<map object at 0x00000217B92A3370>\n"
     ]
    },
    {
     "name": "stderr",
     "output_type": "stream",
     "text": [
      "tsv_io.py:384: 14it [10:00, 51.67s/it]\n",
      "2519841281.py:20:  20%|████████████▉                                                   | 14/69 [10:00<47:21, 51.67s/it]\u001b[A"
     ]
    },
    {
     "name": "stdout",
     "output_type": "stream",
     "text": [
      "<map object at 0x00000217B92A3370>\n"
     ]
    },
    {
     "name": "stderr",
     "output_type": "stream",
     "text": [
      "tsv_io.py:384: 15it [10:42, 48.91s/it]\n",
      "2519841281.py:20:  22%|█████████████▉                                                  | 15/69 [10:42<44:01, 48.91s/it]\u001b[A"
     ]
    },
    {
     "name": "stdout",
     "output_type": "stream",
     "text": [
      "<map object at 0x00000217B92A3370>\n"
     ]
    },
    {
     "name": "stderr",
     "output_type": "stream",
     "text": [
      "tsv_io.py:384: 16it [10:46, 35.30s/it]\n",
      "2519841281.py:20:  23%|██████████████▊                                                 | 16/69 [10:46<31:11, 35.30s/it]\u001b[A"
     ]
    },
    {
     "name": "stdout",
     "output_type": "stream",
     "text": [
      "<map object at 0x00000217B92A3370>\n"
     ]
    },
    {
     "name": "stderr",
     "output_type": "stream",
     "text": [
      "tsv_io.py:384: 17it [11:28, 37.34s/it]\n",
      "2519841281.py:20:  25%|███████████████▊                                                | 17/69 [11:28<32:21, 37.34s/it]\u001b[A"
     ]
    },
    {
     "name": "stdout",
     "output_type": "stream",
     "text": [
      "<map object at 0x00000217B92A3370>\n"
     ]
    },
    {
     "name": "stderr",
     "output_type": "stream",
     "text": [
      "tsv_io.py:384: 18it [12:14, 40.02s/it]\n",
      "2519841281.py:20:  26%|████████████████▋                                               | 18/69 [12:14<34:01, 40.02s/it]\u001b[A"
     ]
    },
    {
     "name": "stdout",
     "output_type": "stream",
     "text": [
      "<map object at 0x00000217B92A3370>\n"
     ]
    },
    {
     "name": "stderr",
     "output_type": "stream",
     "text": [
      "tsv_io.py:384: 19it [13:17, 46.86s/it]\n",
      "2519841281.py:20:  28%|█████████████████▌                                              | 19/69 [13:17<39:02, 46.86s/it]\u001b[A"
     ]
    },
    {
     "name": "stdout",
     "output_type": "stream",
     "text": [
      "<map object at 0x00000217B92A3370>\n"
     ]
    },
    {
     "name": "stderr",
     "output_type": "stream",
     "text": [
      "tsv_io.py:384: 20it [14:30, 54.73s/it]\n",
      "2519841281.py:20:  29%|██████████████████▌                                             | 20/69 [14:30<44:41, 54.73s/it]\u001b[A"
     ]
    },
    {
     "name": "stdout",
     "output_type": "stream",
     "text": [
      "<map object at 0x00000217B92A3370>\n"
     ]
    },
    {
     "name": "stderr",
     "output_type": "stream",
     "text": [
      "tsv_io.py:384: 21it [15:44, 60.62s/it]\n",
      "2519841281.py:20:  30%|███████████████████▍                                            | 21/69 [15:44<48:29, 60.62s/it]\u001b[A"
     ]
    },
    {
     "name": "stdout",
     "output_type": "stream",
     "text": [
      "<map object at 0x00000217B92A3370>\n"
     ]
    },
    {
     "name": "stderr",
     "output_type": "stream",
     "text": [
      "tsv_io.py:384: 22it [16:24, 54.32s/it]\n",
      "2519841281.py:20:  32%|████████████████████▍                                           | 22/69 [16:24<42:33, 54.32s/it]\u001b[A"
     ]
    },
    {
     "name": "stdout",
     "output_type": "stream",
     "text": [
      "<map object at 0x00000217B92A3370>\n"
     ]
    },
    {
     "name": "stderr",
     "output_type": "stream",
     "text": [
      "tsv_io.py:384: 23it [17:43, 61.87s/it]\n",
      "2519841281.py:20:  33%|█████████████████████▎                                          | 23/69 [17:43<47:25, 61.87s/it]\u001b[A"
     ]
    },
    {
     "name": "stdout",
     "output_type": "stream",
     "text": [
      "<map object at 0x00000217B92A3370>\n"
     ]
    },
    {
     "name": "stderr",
     "output_type": "stream",
     "text": [
      "tsv_io.py:384: 24it [18:43, 61.11s/it]\n",
      "2519841281.py:20:  35%|██████████████████████▎                                         | 24/69 [18:43<45:49, 61.11s/it]\u001b[A"
     ]
    },
    {
     "name": "stdout",
     "output_type": "stream",
     "text": [
      "<map object at 0x00000217B92A3370>\n"
     ]
    },
    {
     "name": "stderr",
     "output_type": "stream",
     "text": [
      "tsv_io.py:384: 25it [19:37, 58.92s/it]\n",
      "2519841281.py:20:  36%|███████████████████████▏                                        | 25/69 [19:37<43:12, 58.92s/it]\u001b[A"
     ]
    },
    {
     "name": "stdout",
     "output_type": "stream",
     "text": [
      "<map object at 0x00000217B92A3370>\n"
     ]
    },
    {
     "name": "stderr",
     "output_type": "stream",
     "text": [
      "tsv_io.py:384: 26it [20:45, 61.91s/it]\n",
      "2519841281.py:20:  38%|████████████████████████                                        | 26/69 [20:45<44:22, 61.91s/it]\u001b[A"
     ]
    },
    {
     "name": "stdout",
     "output_type": "stream",
     "text": [
      "<map object at 0x00000217B92A3370>\n"
     ]
    },
    {
     "name": "stderr",
     "output_type": "stream",
     "text": [
      "tsv_io.py:384: 27it [21:41, 60.04s/it]\n",
      "2519841281.py:20:  39%|█████████████████████████                                       | 27/69 [21:41<42:01, 60.04s/it]\u001b[A"
     ]
    },
    {
     "name": "stdout",
     "output_type": "stream",
     "text": [
      "<map object at 0x00000217B92A3370>\n"
     ]
    },
    {
     "name": "stderr",
     "output_type": "stream",
     "text": [
      "tsv_io.py:384: 28it [22:11, 51.02s/it]\n",
      "2519841281.py:20:  41%|█████████████████████████▉                                      | 28/69 [22:11<34:51, 51.02s/it]\u001b[A"
     ]
    },
    {
     "name": "stdout",
     "output_type": "stream",
     "text": [
      "<map object at 0x00000217B92A3370>\n"
     ]
    },
    {
     "name": "stderr",
     "output_type": "stream",
     "text": [
      "tsv_io.py:384: 29it [23:19, 55.96s/it]\n",
      "2519841281.py:20:  42%|██████████████████████████▉                                     | 29/69 [23:19<37:18, 55.96s/it]\u001b[A"
     ]
    },
    {
     "name": "stdout",
     "output_type": "stream",
     "text": [
      "<map object at 0x00000217B92A3370>\n"
     ]
    },
    {
     "name": "stderr",
     "output_type": "stream",
     "text": [
      "tsv_io.py:384: 30it [24:00, 51.65s/it]\n",
      "2519841281.py:20:  43%|███████████████████████████▊                                    | 30/69 [24:00<33:34, 51.65s/it]\u001b[A"
     ]
    },
    {
     "name": "stdout",
     "output_type": "stream",
     "text": [
      "<map object at 0x00000217B92A3370>\n"
     ]
    },
    {
     "name": "stderr",
     "output_type": "stream",
     "text": [
      "tsv_io.py:384: 31it [24:25, 43.51s/it]\n",
      "2519841281.py:20:  45%|████████████████████████████▊                                   | 31/69 [24:25<27:33, 43.51s/it]\u001b[A"
     ]
    },
    {
     "name": "stdout",
     "output_type": "stream",
     "text": [
      "<map object at 0x00000217B92A3370>\n"
     ]
    },
    {
     "name": "stderr",
     "output_type": "stream",
     "text": [
      "tsv_io.py:384: 32it [25:07, 43.08s/it]\n",
      "2519841281.py:20:  46%|█████████████████████████████▋                                  | 32/69 [25:07<26:34, 43.08s/it]\u001b[A"
     ]
    },
    {
     "name": "stdout",
     "output_type": "stream",
     "text": [
      "<map object at 0x00000217B92A3370>\n"
     ]
    },
    {
     "name": "stderr",
     "output_type": "stream",
     "text": [
      "tsv_io.py:384: 33it [25:27, 36.36s/it]\n",
      "2519841281.py:20:  48%|██████████████████████████████▌                                 | 33/69 [25:27<21:48, 36.36s/it]\u001b[A"
     ]
    },
    {
     "name": "stdout",
     "output_type": "stream",
     "text": [
      "<map object at 0x00000217B92A3370>\n"
     ]
    },
    {
     "name": "stderr",
     "output_type": "stream",
     "text": [
      "tsv_io.py:384: 34it [26:19, 40.97s/it]\n",
      "2519841281.py:20:  49%|███████████████████████████████▌                                | 34/69 [26:19<23:54, 40.97s/it]\u001b[A"
     ]
    },
    {
     "name": "stdout",
     "output_type": "stream",
     "text": [
      "<map object at 0x00000217B92A3370>\n"
     ]
    },
    {
     "name": "stderr",
     "output_type": "stream",
     "text": [
      "tsv_io.py:384: 35it [26:54, 39.20s/it]\n",
      "2519841281.py:20:  51%|████████████████████████████████▍                               | 35/69 [26:54<22:12, 39.20s/it]\u001b[A"
     ]
    },
    {
     "name": "stdout",
     "output_type": "stream",
     "text": [
      "<map object at 0x00000217B92A3370>\n"
     ]
    },
    {
     "name": "stderr",
     "output_type": "stream",
     "text": [
      "tsv_io.py:384: 36it [27:12, 32.84s/it]\n",
      "2519841281.py:20:  52%|█████████████████████████████████▍                              | 36/69 [27:12<18:03, 32.84s/it]\u001b[A"
     ]
    },
    {
     "name": "stdout",
     "output_type": "stream",
     "text": [
      "<map object at 0x00000217B92A3370>\n"
     ]
    },
    {
     "name": "stderr",
     "output_type": "stream",
     "text": [
      "tsv_io.py:384: 37it [28:44, 50.52s/it]\n",
      "2519841281.py:20:  54%|██████████████████████████████████▎                             | 37/69 [28:44<26:56, 50.52s/it]\u001b[A"
     ]
    },
    {
     "name": "stdout",
     "output_type": "stream",
     "text": [
      "<map object at 0x00000217B92A3370>\n"
     ]
    },
    {
     "name": "stderr",
     "output_type": "stream",
     "text": [
      "tsv_io.py:384: 38it [28:52, 37.80s/it]\n",
      "2519841281.py:20:  55%|███████████████████████████████████▏                            | 38/69 [28:52<19:31, 37.80s/it]\u001b[A"
     ]
    },
    {
     "name": "stdout",
     "output_type": "stream",
     "text": [
      "<map object at 0x00000217B92A3370>\n"
     ]
    },
    {
     "name": "stderr",
     "output_type": "stream",
     "text": [
      "tsv_io.py:384: 39it [29:59, 46.52s/it]\n",
      "2519841281.py:20:  57%|████████████████████████████████████▏                           | 39/69 [29:59<23:15, 46.52s/it]\u001b[A"
     ]
    },
    {
     "name": "stdout",
     "output_type": "stream",
     "text": [
      "<map object at 0x00000217B92A3370>\n"
     ]
    },
    {
     "name": "stderr",
     "output_type": "stream",
     "text": [
      "tsv_io.py:384: 40it [31:00, 50.85s/it]\n",
      "2519841281.py:20:  58%|█████████████████████████████████████                           | 40/69 [31:00<24:34, 50.85s/it]\u001b[A"
     ]
    },
    {
     "name": "stdout",
     "output_type": "stream",
     "text": [
      "<map object at 0x00000217B92A3370>\n"
     ]
    },
    {
     "name": "stderr",
     "output_type": "stream",
     "text": [
      "tsv_io.py:384: 41it [31:37, 46.77s/it]\n",
      "2519841281.py:20:  59%|██████████████████████████████████████                          | 41/69 [31:37<21:49, 46.77s/it]\u001b[A"
     ]
    },
    {
     "name": "stdout",
     "output_type": "stream",
     "text": [
      "<map object at 0x00000217B92A3370>\n"
     ]
    },
    {
     "name": "stderr",
     "output_type": "stream",
     "text": [
      "tsv_io.py:384: 42it [32:06, 41.26s/it]\n",
      "2519841281.py:20:  61%|██████████████████████████████████████▉                         | 42/69 [32:06<18:34, 41.26s/it]\u001b[A"
     ]
    },
    {
     "name": "stdout",
     "output_type": "stream",
     "text": [
      "<map object at 0x00000217B92A3370>\n"
     ]
    },
    {
     "name": "stderr",
     "output_type": "stream",
     "text": [
      "tsv_io.py:384: 43it [32:47, 41.29s/it]\n",
      "2519841281.py:20:  62%|███████████████████████████████████████▉                        | 43/69 [32:47<17:53, 41.29s/it]\u001b[A"
     ]
    },
    {
     "name": "stdout",
     "output_type": "stream",
     "text": [
      "<map object at 0x00000217B92A3370>\n"
     ]
    },
    {
     "name": "stderr",
     "output_type": "stream",
     "text": [
      "tsv_io.py:384: 44it [33:35, 43.23s/it]\n",
      "2519841281.py:20:  64%|████████████████████████████████████████▊                       | 44/69 [33:35<18:00, 43.23s/it]\u001b[A"
     ]
    },
    {
     "name": "stdout",
     "output_type": "stream",
     "text": [
      "<map object at 0x00000217B92A3370>\n"
     ]
    },
    {
     "name": "stderr",
     "output_type": "stream",
     "text": [
      "tsv_io.py:384: 45it [34:51, 53.02s/it]\n",
      "2519841281.py:20:  65%|█████████████████████████████████████████▋                      | 45/69 [34:51<21:12, 53.02s/it]\u001b[A"
     ]
    },
    {
     "name": "stdout",
     "output_type": "stream",
     "text": [
      "<map object at 0x00000217B92A3370>\n"
     ]
    },
    {
     "name": "stderr",
     "output_type": "stream",
     "text": [
      "tsv_io.py:384: 46it [35:00, 39.88s/it]\n",
      "2519841281.py:20:  67%|██████████████████████████████████████████▋                     | 46/69 [35:00<15:17, 39.88s/it]\u001b[A"
     ]
    },
    {
     "name": "stdout",
     "output_type": "stream",
     "text": [
      "<map object at 0x00000217B92A3370>\n"
     ]
    },
    {
     "name": "stderr",
     "output_type": "stream",
     "text": [
      "tsv_io.py:384: 47it [35:44, 41.04s/it]\n",
      "2519841281.py:20:  68%|███████████████████████████████████████████▌                    | 47/69 [35:44<15:02, 41.04s/it]\u001b[A"
     ]
    },
    {
     "name": "stdout",
     "output_type": "stream",
     "text": [
      "<map object at 0x00000217B92A3370>\n"
     ]
    },
    {
     "name": "stderr",
     "output_type": "stream",
     "text": [
      "tsv_io.py:384: 48it [36:28, 41.94s/it]\n",
      "2519841281.py:20:  70%|████████████████████████████████████████████▌                   | 48/69 [36:28<14:40, 41.94s/it]\u001b[A"
     ]
    },
    {
     "name": "stdout",
     "output_type": "stream",
     "text": [
      "<map object at 0x00000217B92A3370>\n"
     ]
    },
    {
     "name": "stderr",
     "output_type": "stream",
     "text": [
      "tsv_io.py:384: 49it [37:15, 43.70s/it]\n",
      "2519841281.py:20:  71%|█████████████████████████████████████████████▍                  | 49/69 [37:15<14:33, 43.70s/it]\u001b[A"
     ]
    },
    {
     "name": "stdout",
     "output_type": "stream",
     "text": [
      "<map object at 0x00000217B92A3370>\n"
     ]
    },
    {
     "name": "stderr",
     "output_type": "stream",
     "text": [
      "tsv_io.py:384: 50it [38:20, 49.87s/it]\n",
      "2519841281.py:20:  72%|██████████████████████████████████████████████▍                 | 50/69 [38:20<15:47, 49.87s/it]\u001b[A"
     ]
    },
    {
     "name": "stdout",
     "output_type": "stream",
     "text": [
      "<map object at 0x00000217B92A3370>\n"
     ]
    },
    {
     "name": "stderr",
     "output_type": "stream",
     "text": [
      "tsv_io.py:384: 51it [38:39, 40.60s/it]\n",
      "2519841281.py:20:  74%|███████████████████████████████████████████████▎                | 51/69 [38:39<12:10, 40.60s/it]\u001b[A"
     ]
    },
    {
     "name": "stdout",
     "output_type": "stream",
     "text": [
      "<map object at 0x00000217B92A3370>\n"
     ]
    },
    {
     "name": "stderr",
     "output_type": "stream",
     "text": [
      "tsv_io.py:384: 52it [39:07, 36.87s/it]\n",
      "2519841281.py:20:  75%|████████████████████████████████████████████████▏               | 52/69 [39:07<10:26, 36.87s/it]\u001b[A"
     ]
    },
    {
     "name": "stdout",
     "output_type": "stream",
     "text": [
      "<map object at 0x00000217B92A3370>\n"
     ]
    },
    {
     "name": "stderr",
     "output_type": "stream",
     "text": [
      "tsv_io.py:384: 53it [39:26, 31.58s/it]\n",
      "2519841281.py:20:  77%|█████████████████████████████████████████████████▏              | 53/69 [39:26<08:25, 31.58s/it]\u001b[A"
     ]
    },
    {
     "name": "stdout",
     "output_type": "stream",
     "text": [
      "<map object at 0x00000217B92A3370>\n"
     ]
    },
    {
     "name": "stderr",
     "output_type": "stream",
     "text": [
      "tsv_io.py:384: 54it [39:48, 28.67s/it]\n",
      "2519841281.py:20:  78%|██████████████████████████████████████████████████              | 54/69 [39:48<07:10, 28.67s/it]\u001b[A"
     ]
    },
    {
     "name": "stdout",
     "output_type": "stream",
     "text": [
      "<map object at 0x00000217B92A3370>\n"
     ]
    },
    {
     "name": "stderr",
     "output_type": "stream",
     "text": [
      "tsv_io.py:384: 55it [40:45, 37.17s/it]\n",
      "2519841281.py:20:  80%|███████████████████████████████████████████████████             | 55/69 [40:45<08:40, 37.17s/it]\u001b[A"
     ]
    },
    {
     "name": "stdout",
     "output_type": "stream",
     "text": [
      "<map object at 0x00000217B92A3370>\n"
     ]
    },
    {
     "name": "stderr",
     "output_type": "stream",
     "text": [
      "tsv_io.py:384: 56it [41:43, 43.40s/it]\n",
      "2519841281.py:20:  81%|███████████████████████████████████████████████████▉            | 56/69 [41:43<09:24, 43.40s/it]\u001b[A"
     ]
    },
    {
     "name": "stdout",
     "output_type": "stream",
     "text": [
      "<map object at 0x00000217B92A3370>\n"
     ]
    },
    {
     "name": "stderr",
     "output_type": "stream",
     "text": [
      "tsv_io.py:384: 57it [42:33, 45.47s/it]\n",
      "2519841281.py:20:  83%|████████████████████████████████████████████████████▊           | 57/69 [42:33<09:05, 45.47s/it]\u001b[A"
     ]
    },
    {
     "name": "stdout",
     "output_type": "stream",
     "text": [
      "<map object at 0x00000217B92A3370>\n"
     ]
    },
    {
     "name": "stderr",
     "output_type": "stream",
     "text": [
      "tsv_io.py:384: 58it [43:01, 40.04s/it]\n",
      "2519841281.py:20:  84%|█████████████████████████████████████████████████████▊          | 58/69 [43:01<07:20, 40.04s/it]\u001b[A"
     ]
    },
    {
     "name": "stdout",
     "output_type": "stream",
     "text": [
      "<map object at 0x00000217B92A3370>\n"
     ]
    },
    {
     "name": "stderr",
     "output_type": "stream",
     "text": [
      "tsv_io.py:384: 59it [43:06, 29.54s/it]\n",
      "2519841281.py:20:  86%|██████████████████████████████████████████████████████▋         | 59/69 [43:06<04:55, 29.54s/it]\u001b[A"
     ]
    },
    {
     "name": "stdout",
     "output_type": "stream",
     "text": [
      "<map object at 0x00000217B92A3370>\n"
     ]
    },
    {
     "name": "stderr",
     "output_type": "stream",
     "text": [
      "tsv_io.py:384: 60it [43:45, 32.58s/it]\n",
      "2519841281.py:20:  87%|███████████████████████████████████████████████████████▋        | 60/69 [43:45<04:53, 32.58s/it]\u001b[A"
     ]
    },
    {
     "name": "stdout",
     "output_type": "stream",
     "text": [
      "<map object at 0x00000217B92A3370>\n"
     ]
    },
    {
     "name": "stderr",
     "output_type": "stream",
     "text": [
      "tsv_io.py:384: 61it [43:54, 25.46s/it]\n",
      "2519841281.py:20:  88%|████████████████████████████████████████████████████████▌       | 61/69 [43:54<03:23, 25.46s/it]\u001b[A"
     ]
    },
    {
     "name": "stdout",
     "output_type": "stream",
     "text": [
      "<map object at 0x00000217B92A3370>\n"
     ]
    },
    {
     "name": "stderr",
     "output_type": "stream",
     "text": [
      "tsv_io.py:384: 62it [44:00, 19.74s/it]\n",
      "2519841281.py:20:  90%|█████████████████████████████████████████████████████████▌      | 62/69 [44:00<02:18, 19.74s/it]\u001b[A"
     ]
    },
    {
     "name": "stdout",
     "output_type": "stream",
     "text": [
      "<map object at 0x00000217B92A3370>\n"
     ]
    },
    {
     "name": "stderr",
     "output_type": "stream",
     "text": [
      "tsv_io.py:384: 63it [44:27, 21.72s/it]\n",
      "2519841281.py:20:  91%|██████████████████████████████████████████████████████████▍     | 63/69 [44:27<02:10, 21.72s/it]\u001b[A"
     ]
    },
    {
     "name": "stdout",
     "output_type": "stream",
     "text": [
      "<map object at 0x00000217B92A3370>\n"
     ]
    },
    {
     "name": "stderr",
     "output_type": "stream",
     "text": [
      "tsv_io.py:384: 64it [44:40, 19.14s/it]\n",
      "2519841281.py:20:  93%|███████████████████████████████████████████████████████████▎    | 64/69 [44:40<01:35, 19.14s/it]\u001b[A"
     ]
    },
    {
     "name": "stdout",
     "output_type": "stream",
     "text": [
      "<map object at 0x00000217B92A3370>\n"
     ]
    },
    {
     "name": "stderr",
     "output_type": "stream",
     "text": [
      "tsv_io.py:384: 65it [44:55, 17.83s/it]\n",
      "2519841281.py:20:  94%|████████████████████████████████████████████████████████████▎   | 65/69 [44:55<01:11, 17.83s/it]\u001b[A"
     ]
    },
    {
     "name": "stdout",
     "output_type": "stream",
     "text": [
      "<map object at 0x00000217B92A3370>\n"
     ]
    },
    {
     "name": "stderr",
     "output_type": "stream",
     "text": [
      "tsv_io.py:384: 66it [45:13, 17.96s/it]\n",
      "2519841281.py:20:  96%|█████████████████████████████████████████████████████████████▏  | 66/69 [45:13<00:53, 17.96s/it]\u001b[A"
     ]
    },
    {
     "name": "stdout",
     "output_type": "stream",
     "text": [
      "<map object at 0x00000217B92A3370>\n"
     ]
    },
    {
     "name": "stderr",
     "output_type": "stream",
     "text": [
      "tsv_io.py:384: 67it [45:28, 17.12s/it]\n",
      "2519841281.py:20:  97%|██████████████████████████████████████████████████████████████▏ | 67/69 [45:28<00:34, 17.12s/it]\u001b[A"
     ]
    },
    {
     "name": "stdout",
     "output_type": "stream",
     "text": [
      "<map object at 0x00000217B92A3370>\n"
     ]
    },
    {
     "name": "stderr",
     "output_type": "stream",
     "text": [
      "tsv_io.py:384: 68it [45:31, 12.71s/it]\n",
      "2519841281.py:20:  99%|███████████████████████████████████████████████████████████████ | 68/69 [45:31<00:12, 12.71s/it]\u001b[A"
     ]
    },
    {
     "name": "stdout",
     "output_type": "stream",
     "text": [
      "<map object at 0x00000217B92A3370>\n"
     ]
    },
    {
     "name": "stderr",
     "output_type": "stream",
     "text": [
      "tsv_io.py:384: 69it [45:49, 14.31s/it]\n",
      "2519841281.py:20: 100%|████████████████████████████████████████████████████████████████| 69/69 [45:49<00:00, 39.84s/it]\u001b[A\n",
      "tsv_io.py:384: 69it [45:49, 39.84s/it]"
     ]
    },
    {
     "name": "stdout",
     "output_type": "stream",
     "text": [
      "<map object at 0x00000217B92A3370>\n"
     ]
    },
    {
     "name": "stderr",
     "output_type": "stream",
     "text": [
      "\n"
     ]
    }
   ],
   "source": [
    "from generativeimage2text.tsv_io import concat_tsv_files, save_file\n",
    "# prefix\n",
    "max_text_len = 50\n",
    "rank = get_mpi_rank()\n",
    "world_size = get_mpi_size()\n",
    "def get_rank_specific_tsv(rank):\n",
    "    return '{}.{}.{}.tsv'.format(out_tsv, rank, world_size)\n",
    "if world_size > 1:\n",
    "    curr_out_tsv = get_rank_specific_tsv(rank)\n",
    "else:\n",
    "    curr_out_tsv = out_tsv\n",
    "total = len(image_tsv)\n",
    "curr_size = (total + world_size - 1) // world_size\n",
    "curr_start = curr_size * rank\n",
    "curr_end = curr_start + curr_size\n",
    "curr_end = min(curr_end, total)\n",
    "\n",
    "\n",
    "def gen_rows():\n",
    "    for i  in tqdm(range(curr_start, curr_end)):\n",
    "        key, col = image_tsv[i]\n",
    "        img = pilimg_from_base64(col)\n",
    "        img = image_transform(img)\n",
    "        img = img.cuda().unsqueeze(0)\n",
    "        with torch.no_grad():\n",
    "            result = model({\n",
    "                'image': img,\n",
    "            })\n",
    "            # changes here\n",
    "        cap = tokenizer.decode(result['predictions'][0].tolist(), skip_special_tokens=True)\n",
    "        \n",
    "\n",
    "        yield key, json_dump(cap)\n",
    "# Ziv changed\n",
    "#tsv_writer(gen_rows(), curr_out_tsv)\n",
    "save_file(gen_rows(), curr_out_tsv)\n",
    "\n",
    "if world_size > 1 and rank == 0:\n",
    "    all_sub_tsv = [get_rank_specific_tsv(i) for i in range(world_size)]\n",
    "    while True:\n",
    "        not_ready = [t for t in all_sub_tsv if not File.isfile(t)]\n",
    "        if len(not_ready) == 0:\n",
    "            break\n",
    "        else:\n",
    "            import time\n",
    "            logging.info('waiting {}'.format(','.join(not_ready)))\n",
    "            time.sleep(5)\n",
    "    \n",
    "    concat_tsv_files(all_sub_tsv, out_tsv)\n"
   ]
  }
 ],
 "metadata": {
  "kernel_info": {
   "name": "python38-azureml-pt-tf"
  },
  "kernelspec": {
   "display_name": "torchGPU",
   "language": "python",
   "name": "torchgpu"
  },
  "language_info": {
   "codemirror_mode": {
    "name": "ipython",
    "version": 3
   },
   "file_extension": ".py",
   "mimetype": "text/x-python",
   "name": "python",
   "nbconvert_exporter": "python",
   "pygments_lexer": "ipython3",
   "version": "3.10.9"
  },
  "microsoft": {
   "host": {
    "AzureML": {
     "notebookHasBeenCompleted": true
    }
   }
  },
  "nteract": {
   "version": "nteract-front-end@1.0.0"
  }
 },
 "nbformat": 4,
 "nbformat_minor": 2
}
