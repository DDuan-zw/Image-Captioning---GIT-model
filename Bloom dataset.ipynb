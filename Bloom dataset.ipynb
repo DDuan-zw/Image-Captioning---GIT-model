{
 "cells": [
  {
   "cell_type": "code",
   "execution_count": 1,
   "id": "de4bb440",
   "metadata": {
    "pycharm": {
     "name": "#%%\n"
    }
   },
   "outputs": [],
   "source": [
    "import collections\n",
    "import random\n",
    "import os\n",
    "import time\n",
    "import json\n",
    "from PIL import Image\n",
    "import io\n",
    "import urllib\n",
    "import uuid\n",
    "from concurrent.futures import ThreadPoolExecutor\n",
    "from functools import partial\n",
    "\n",
    "import numpy as np\n",
    "from tqdm import tqdm\n",
    "from datasets import load_dataset, load_from_disk\n",
    "from datasets.utils.file_utils import get_datasets_user_agent\n",
    "import matplotlib.pyplot as plt\n",
    "import torch\n",
    "import shutil\n",
    "from torch.utils.data import DataLoader"
   ]
  },
  {
   "cell_type": "markdown",
   "id": "5ce7d403",
   "metadata": {
    "pycharm": {
     "name": "#%% md\n"
    }
   },
   "source": [
    "Only required login once."
   ]
  },
  {
   "cell_type": "code",
   "execution_count": 2,
   "id": "399f3cb4",
   "metadata": {
    "pycharm": {
     "name": "#%%\n"
    }
   },
   "outputs": [],
   "source": [
    "from huggingface_hub import notebook_login\n",
    "notebook_login()"
   ]
  },
  {
   "cell_type": "code",
   "execution_count": 3,
   "id": "38fe8505",
   "metadata": {
    "pycharm": {
     "name": "#%%\n"
    }
   },
   "outputs": [
    {
     "data": {
      "text/plain": [
       "'cuda'"
      ]
     },
     "execution_count": 3,
     "metadata": {},
     "output_type": "execute_result"
    }
   ],
   "source": [
    "# Check cuda\n",
    "device = 'cuda' if torch.cuda.is_available() else 'cpu'\n",
    "device"
   ]
  },
  {
   "cell_type": "code",
   "execution_count": 4,
   "id": "429d42f6",
   "metadata": {
    "pycharm": {
     "name": "#%%\n"
    }
   },
   "outputs": [
    {
     "name": "stdout",
     "output_type": "stream",
     "text": [
      "bloom-captioning-hau already exist!\n",
      "bloom-captioning-tha already exist!\n",
      "bloom-captioning-kir already exist!\n"
     ]
    }
   ],
   "source": [
    "def fetch_single_image(image_url, timeout=None, retries=0):\n",
    "    request = urllib.request.Request(\n",
    "        image_url,\n",
    "        data=None,\n",
    "        headers={\"user-agent\": USER_AGENT},\n",
    "    )\n",
    "    with urllib.request.urlopen(request, timeout=timeout) as req:\n",
    "        if 'png' in image_url:\n",
    "            # for .png file\n",
    "            png = Image.open(io.BytesIO(req.read())).convert('RGBA')\n",
    "            png.load() # required for png.split()\n",
    "            background = Image.new(\"RGB\", png.size, (255, 255, 255))\n",
    "            background.paste(png, mask=png.split()[3]) # 3 is the alpha channel\n",
    "            image_id = str(uuid.uuid4())\n",
    "            image_path = path+\"/\" + image_id + \".jpg\"\n",
    "            background.save(image_path, 'JPEG', quality=80)\n",
    "        else:\n",
    "            # for .jpg file\n",
    "            image = Image.open(io.BytesIO(req.read()))\n",
    "            image_id = str(uuid.uuid4())\n",
    "            image_path = path+\"/\"  + image_id + \".jpg\"\n",
    "            image.save(image_path)\n",
    "    return image_path\n",
    "\n",
    "def fetch_images(batch, num_threads, timeout=None, retries=3):\n",
    "    fetch_single_image_with_args = partial(fetch_single_image, timeout=timeout, retries=retries)\n",
    "    with ThreadPoolExecutor(max_workers=num_threads) as executor:\n",
    "        batch[\"image_path\"] = list(executor.map(fetch_single_image_with_args, batch[\"image_url\"]))\n",
    "    return batch\n",
    "\n",
    "# Add the relevant ISO code for the language you want to work with.\n",
    "iso639_3_letter_code = [\"hau\", \"tha\", \"kir\"]\n",
    "for code in iso639_3_letter_code:\n",
    "    if 'bloom-captioning-{}'.format(code) in os.listdir():\n",
    "        print('bloom-captioning-{} already exist!'.format(code))\n",
    "        continue\n",
    "    else:\n",
    "        # Download the language specific dataset from HF.\n",
    "        dataset = load_dataset(\"sil-ai/bloom-captioning\", code, \n",
    "                               use_auth_token=True, download_mode='force_redownload')\n",
    "        path = 'images_'+code\n",
    "        num_threads = 20\n",
    "        #shutil.rmtree(path, ignore_errors=True)\n",
    "        os.mkdir(path)\n",
    "        USER_AGENT = get_datasets_user_agent()   \n",
    "        \n",
    "        dataset = dataset.map(fetch_images, batched=True, batch_size=100, fn_kwargs={\"num_threads\": num_threads})\n",
    "        dataset.save_to_disk('bloom-captioning-{}'.format(code))\n",
    "        print('Successful download data for '+code)"
   ]
  },
  {
   "cell_type": "code",
   "execution_count": 5,
   "id": "a497792e",
   "metadata": {
    "pycharm": {
     "name": "#%%\n"
    }
   },
   "outputs": [
    {
     "data": {
      "text/plain": [
       "DatasetDict({\n",
       "    test: Dataset({\n",
       "        features: ['image_id', 'image_url', 'caption', 'story_id', 'album_id', 'license', 'original_bloom_language_tag', 'index_in_story', 'image_path'],\n",
       "        num_rows: 52\n",
       "    })\n",
       "    validation: Dataset({\n",
       "        features: ['image_id', 'image_url', 'caption', 'story_id', 'album_id', 'license', 'original_bloom_language_tag', 'index_in_story', 'image_path'],\n",
       "        num_rows: 52\n",
       "    })\n",
       "    train: Dataset({\n",
       "        features: ['image_id', 'image_url', 'caption', 'story_id', 'album_id', 'license', 'original_bloom_language_tag', 'index_in_story', 'image_path'],\n",
       "        num_rows: 1761\n",
       "    })\n",
       "})"
      ]
     },
     "execution_count": 5,
     "metadata": {},
     "output_type": "execute_result"
    }
   ],
   "source": [
    "read_code = 'hau' # choose from \"hau\", \"tha\", \"kir\"\n",
    "dataset = load_from_disk('bloom-captioning-'+read_code)\n",
    "dataset"
   ]
  },
  {
   "cell_type": "code",
   "execution_count": 6,
   "id": "de333e58",
   "metadata": {
    "pycharm": {
     "name": "#%%\n"
    }
   },
   "outputs": [],
   "source": [
    "training_set = dataset['train']\n",
    "val_set = dataset['validation']\n",
    "test_set = dataset['test']"
   ]
  },
  {
   "cell_type": "code",
   "execution_count": 7,
   "id": "f66b3727",
   "metadata": {
    "pycharm": {
     "name": "#%%\n"
    }
   },
   "outputs": [
    {
     "name": "stdout",
     "output_type": "stream",
     "text": [
      "rows for training = 1761\n",
      "rows for val = 52\n",
      "rows for test = 52\n",
      "\n"
     ]
    }
   ],
   "source": [
    "print('rows for training = {}\\nrows for val = {}\\nrows for test = {}\\n'.format(len(training_set),len(val_set),len(test_set)))"
   ]
  },
  {
   "cell_type": "code",
   "execution_count": 8,
   "id": "0a2c144a",
   "metadata": {
    "pycharm": {
     "name": "#%%\n"
    }
   },
   "outputs": [],
   "source": [
    "train_dataloader = DataLoader(training_set, batch_size=64, shuffle=True)\n",
    "val_dataloader = DataLoader(val_set, batch_size=64, shuffle=True)\n",
    "test_dataloader = DataLoader(val_set, batch_size=64, shuffle=True)"
   ]
  },
  {
   "cell_type": "code",
   "execution_count": 9,
   "id": "5b2797b4",
   "metadata": {
    "pycharm": {
     "name": "#%%\n"
    }
   },
   "outputs": [
    {
     "name": "stderr",
     "output_type": "stream",
     "text": [
      "Cloning into 'GenerativeImage2Text'...\n"
     ]
    }
   ],
   "source": [
    "!git clone https://github.com/microsoft/GenerativeImage2Text.git\n",
    "!cd GenerativeImage2Text"
   ]
  },
  {
   "cell_type": "code",
   "execution_count": null,
   "id": "b4b6b87a",
   "metadata": {
    "pycharm": {
     "name": "#%%\n"
    }
   },
   "outputs": [],
   "source": []
  }
 ],
 "metadata": {
  "kernelspec": {
   "display_name": "torchGPU",
   "language": "python",
   "name": "torchgpu"
  },
  "language_info": {
   "codemirror_mode": {
    "name": "ipython",
    "version": 3
   },
   "file_extension": ".py",
   "mimetype": "text/x-python",
   "name": "python",
   "nbconvert_exporter": "python",
   "pygments_lexer": "ipython3",
   "version": "3.10.9"
  }
 },
 "nbformat": 4,
 "nbformat_minor": 5
}
